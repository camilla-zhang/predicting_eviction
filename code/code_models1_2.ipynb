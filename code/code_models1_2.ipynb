{
  "nbformat": 4,
  "nbformat_minor": 0,
  "metadata": {
    "colab": {
      "provenance": []
    },
    "kernelspec": {
      "name": "python3",
      "display_name": "Python 3"
    },
    "language_info": {
      "name": "python"
    }
  },
  "cells": [
    {
      "cell_type": "markdown",
      "source": [
        "# **Part 1: Summary Statistics of NYC Housing Court Records**"
      ],
      "metadata": {
        "id": "VLWrUWfBYqJi"
      }
    },
    {
      "cell_type": "code",
      "source": [
        "## Import Libraries ##\n",
        "\n",
        "from google.colab import drive\n",
        "import pandas as pd\n",
        "import numpy as np\n",
        "import re\n",
        "import statsmodels.api as sm\n",
        "from sklearn.model_selection import train_test_split\n",
        "from sklearn.linear_model import LogisticRegression\n",
        "from sklearn.preprocessing import LabelEncoder\n",
        "drive.mount('/content/gdrive/')"
      ],
      "metadata": {
        "id": "hlD7Eysa8Jdu",
        "colab": {
          "base_uri": "https://localhost:8080/"
        },
        "outputId": "7c6fa76f-9f77-469d-8516-7e75aed8a07d"
      },
      "execution_count": null,
      "outputs": [
        {
          "output_type": "stream",
          "name": "stdout",
          "text": [
            "Mounted at /content/gdrive/\n"
          ]
        }
      ]
    },
    {
      "cell_type": "code",
      "source": [
        "## Load Data ##\n",
        "\n",
        "!pip install nycdb\n",
        "!nycdb --download oca\n",
        "!nycdb --load oca\n",
        "addresses = pd.read_csv('/content/data/oca_addresses.csv')\n",
        "decisions = pd.read_csv(\"/content/data/oca_decisions.csv\")\n",
        "index = pd.read_csv(\"/content/data/oca_index.csv\")"
      ],
      "metadata": {
        "id": "IiuPWlaX8tIH",
        "colab": {
          "base_uri": "https://localhost:8080/"
        },
        "outputId": "9b1e4118-08c1-4358-c8e3-17cf6c8ca510"
      },
      "execution_count": null,
      "outputs": [
        {
          "output_type": "stream",
          "name": "stdout",
          "text": [
            "Looking in indexes: https://pypi.org/simple, https://us-python.pkg.dev/colab-wheels/public/simple/\n",
            "Collecting nycdb\n",
            "  Downloading nycdb-0.2.8-py3-none-any.whl (74 kB)\n",
            "\u001b[2K     \u001b[90m━━━━━━━━━━━━━━━━━━━━━━━━━━━━━━━━━━━━━━━━\u001b[0m \u001b[32m74.2/74.2 KB\u001b[0m \u001b[31m3.4 MB/s\u001b[0m eta \u001b[36m0:00:00\u001b[0m\n",
            "\u001b[?25hRequirement already satisfied: tqdm>=4.28.1 in /usr/local/lib/python3.8/dist-packages (from nycdb) (4.64.1)\n",
            "Requirement already satisfied: requests>=2.18 in /usr/local/lib/python3.8/dist-packages (from nycdb) (2.25.1)\n",
            "Requirement already satisfied: PyYAML>=5.1 in /usr/local/lib/python3.8/dist-packages (from nycdb) (6.0)\n",
            "Collecting xlrd>=2.0.1\n",
            "  Downloading xlrd-2.0.1-py2.py3-none-any.whl (96 kB)\n",
            "\u001b[2K     \u001b[90m━━━━━━━━━━━━━━━━━━━━━━━━━━━━━━━━━━━━━━━━\u001b[0m \u001b[32m96.5/96.5 KB\u001b[0m \u001b[31m10.5 MB/s\u001b[0m eta \u001b[36m0:00:00\u001b[0m\n",
            "\u001b[?25hRequirement already satisfied: psycopg2>=2.7 in /usr/local/lib/python3.8/dist-packages (from nycdb) (2.9.5)\n",
            "Requirement already satisfied: openpyxl>=3.0.9 in /usr/local/lib/python3.8/dist-packages (from nycdb) (3.0.10)\n",
            "Requirement already satisfied: et-xmlfile in /usr/local/lib/python3.8/dist-packages (from openpyxl>=3.0.9->nycdb) (1.1.0)\n",
            "Requirement already satisfied: idna<3,>=2.5 in /usr/local/lib/python3.8/dist-packages (from requests>=2.18->nycdb) (2.10)\n",
            "Requirement already satisfied: certifi>=2017.4.17 in /usr/local/lib/python3.8/dist-packages (from requests>=2.18->nycdb) (2022.12.7)\n",
            "Requirement already satisfied: urllib3<1.27,>=1.21.1 in /usr/local/lib/python3.8/dist-packages (from requests>=2.18->nycdb) (1.24.3)\n",
            "Requirement already satisfied: chardet<5,>=3.0.2 in /usr/local/lib/python3.8/dist-packages (from requests>=2.18->nycdb) (4.0.0)\n",
            "Installing collected packages: xlrd, nycdb\n",
            "  Attempting uninstall: xlrd\n",
            "    Found existing installation: xlrd 1.2.0\n",
            "    Uninstalling xlrd-1.2.0:\n",
            "      Successfully uninstalled xlrd-1.2.0\n",
            "Successfully installed nycdb-0.2.8 xlrd-2.0.1\n",
            "INFO:root:Downloading https://s3.amazonaws.com/oca-data/public/oca_index.csv to /content/data/oca_index.csv\n",
            "DEBUG:urllib3.connectionpool:Starting new HTTPS connection (1): s3.amazonaws.com:443\n",
            "DEBUG:urllib3.connectionpool:https://s3.amazonaws.com:443 \"GET /oca-data/public/oca_index.csv HTTP/1.1\" 200 339493525\n",
            "100% 324M/324M [00:04<00:00, 81.6MB/s]\n",
            "INFO:root:Downloading https://s3.amazonaws.com/oca-data/public/oca_causes.csv to /content/data/oca_causes.csv\n",
            "DEBUG:urllib3.connectionpool:Starting new HTTPS connection (1): s3.amazonaws.com:443\n",
            "DEBUG:urllib3.connectionpool:https://s3.amazonaws.com:443 \"GET /oca-data/public/oca_causes.csv HTTP/1.1\" 200 195773801\n",
            "100% 187M/187M [00:02<00:00, 65.8MB/s]\n",
            "INFO:root:Downloading https://s3.amazonaws.com/oca-data/public/oca_addresses.csv to /content/data/oca_addresses.csv\n",
            "DEBUG:urllib3.connectionpool:Starting new HTTPS connection (1): s3.amazonaws.com:443\n",
            "DEBUG:urllib3.connectionpool:https://s3.amazonaws.com:443 \"GET /oca-data/public/oca_addresses.csv HTTP/1.1\" 200 207848981\n",
            "100% 198M/198M [00:02<00:00, 80.2MB/s]\n",
            "INFO:root:Downloading https://s3.amazonaws.com/oca-data/public/oca_parties.csv to /content/data/oca_parties.csv\n",
            "DEBUG:urllib3.connectionpool:Starting new HTTPS connection (1): s3.amazonaws.com:443\n",
            "DEBUG:urllib3.connectionpool:https://s3.amazonaws.com:443 \"GET /oca-data/public/oca_parties.csv HTTP/1.1\" 200 662375210\n",
            "100% 632M/632M [00:11<00:00, 59.4MB/s]\n",
            "INFO:root:Downloading https://s3.amazonaws.com/oca-data/public/oca_events.csv to /content/data/oca_events.csv\n",
            "DEBUG:urllib3.connectionpool:Starting new HTTPS connection (1): s3.amazonaws.com:443\n",
            "DEBUG:urllib3.connectionpool:https://s3.amazonaws.com:443 \"GET /oca-data/public/oca_events.csv HTTP/1.1\" 200 593586963\n",
            "100% 566M/566M [00:09<00:00, 63.3MB/s]\n",
            "INFO:root:Downloading https://s3.amazonaws.com/oca-data/public/oca_appearances.csv to /content/data/oca_appearances.csv\n",
            "DEBUG:urllib3.connectionpool:Starting new HTTPS connection (1): s3.amazonaws.com:443\n",
            "DEBUG:urllib3.connectionpool:https://s3.amazonaws.com:443 \"GET /oca-data/public/oca_appearances.csv HTTP/1.1\" 200 878206785\n",
            "100% 838M/838M [00:10<00:00, 81.2MB/s]\n",
            "INFO:root:Downloading https://s3.amazonaws.com/oca-data/public/oca_appearance_outcomes.csv to /content/data/oca_appearance_outcomes.csv\n",
            "DEBUG:urllib3.connectionpool:Starting new HTTPS connection (1): s3.amazonaws.com:443\n",
            "DEBUG:urllib3.connectionpool:https://s3.amazonaws.com:443 \"GET /oca-data/public/oca_appearance_outcomes.csv HTTP/1.1\" 200 620520280\n",
            "100% 592M/592M [00:25<00:00, 24.3MB/s]\n",
            "INFO:root:Downloading https://s3.amazonaws.com/oca-data/public/oca_motions.csv to /content/data/oca_motions.csv\n",
            "DEBUG:urllib3.connectionpool:Starting new HTTPS connection (1): s3.amazonaws.com:443\n",
            "DEBUG:urllib3.connectionpool:https://s3.amazonaws.com:443 \"GET /oca-data/public/oca_motions.csv HTTP/1.1\" 200 144604056\n",
            "100% 138M/138M [00:01<00:00, 73.9MB/s]\n",
            "INFO:root:Downloading https://s3.amazonaws.com/oca-data/public/oca_decisions.csv to /content/data/oca_decisions.csv\n",
            "DEBUG:urllib3.connectionpool:Starting new HTTPS connection (1): s3.amazonaws.com:443\n",
            "DEBUG:urllib3.connectionpool:https://s3.amazonaws.com:443 \"GET /oca-data/public/oca_decisions.csv HTTP/1.1\" 200 459858270\n",
            "100% 439M/439M [00:06<00:00, 71.1MB/s]\n",
            "INFO:root:Downloading https://s3.amazonaws.com/oca-data/public/oca_judgments.csv to /content/data/oca_judgments.csv\n",
            "DEBUG:urllib3.connectionpool:Starting new HTTPS connection (1): s3.amazonaws.com:443\n",
            "DEBUG:urllib3.connectionpool:https://s3.amazonaws.com:443 \"GET /oca-data/public/oca_judgments.csv HTTP/1.1\" 200 122420121\n",
            "100% 117M/117M [00:01<00:00, 83.0MB/s]\n",
            "INFO:root:Downloading https://s3.amazonaws.com/oca-data/public/oca_warrants.csv to /content/data/oca_warrants.csv\n",
            "DEBUG:urllib3.connectionpool:Starting new HTTPS connection (1): s3.amazonaws.com:443\n",
            "DEBUG:urllib3.connectionpool:https://s3.amazonaws.com:443 \"GET /oca-data/public/oca_warrants.csv HTTP/1.1\" 200 177457260\n",
            "100% 169M/169M [00:02<00:00, 80.5MB/s]\n",
            "Traceback (most recent call last):\n",
            "  File \"/usr/local/bin/nycdb\", line 8, in <module>\n",
            "    sys.exit(main())\n",
            "  File \"/usr/local/lib/python3.8/dist-packages/nycdb/cli.py\", line 111, in main\n",
            "    dispatch(args)\n",
            "  File \"/usr/local/lib/python3.8/dist-packages/nycdb/cli.py\", line 102, in dispatch\n",
            "    Dataset(args.load, args=args).db_import()\n",
            "  File \"/usr/local/lib/python3.8/dist-packages/nycdb/dataset.py\", line 69, in db_import\n",
            "    self.setup_db()\n",
            "  File \"/usr/local/lib/python3.8/dist-packages/nycdb/dataset.py\", line 149, in setup_db\n",
            "    self.db = Database(self.args, table_name=self.name)\n",
            "  File \"/usr/local/lib/python3.8/dist-packages/nycdb/database.py\", line 18, in __init__\n",
            "    self.conn = psycopg2.connect(\n",
            "  File \"/usr/local/lib/python3.8/dist-packages/psycopg2/__init__.py\", line 122, in connect\n",
            "    conn = _connect(dsn, connection_factory=connection_factory, **kwasync)\n",
            "psycopg2.OperationalError: could not connect to server: Connection refused\n",
            "\tIs the server running on host \"127.0.0.1\" and accepting\n",
            "\tTCP/IP connections on port 5432?\n",
            "\n"
          ]
        }
      ]
    },
    {
      "cell_type": "markdown",
      "source": [
        "###Residential court cases by borough"
      ],
      "metadata": {
        "id": "NtGPnrcRqGel"
      }
    },
    {
      "cell_type": "markdown",
      "source": [
        "Bouroughs by zip code\n",
        "* Manhattan: 10001-10282\n",
        "* Staten Island : 10301-10314\n",
        "* Bronx: 10451-10475\n",
        "* Queens: 11004-11109, 11351-11697\n",
        "* Brooklyn: 11201-11256"
      ],
      "metadata": {
        "id": "jMWt-wU546fZ"
      }
    },
    {
      "cell_type": "code",
      "source": [
        "#Create a borough categorizer by zip codes\n",
        "\n",
        "def categorize_borough(row):  \n",
        "  if row['zip'] >= 10001 and row['zip'] <= 10282:\n",
        "    return 'manhattan'\n",
        "  elif row['zip'] >= 10301 and row['zip'] <= 10314:\n",
        "    return 'staten island'\n",
        "  elif row['zip'] >= 10451  and row['zip'] <= 10475:\n",
        "    return 'bronx'\n",
        "  elif (row['zip'] >= 11004  and row['zip'] <= 11109) or (row['zip'] >= 11351  and row['zip'] <= 11697):\n",
        "    return 'queens'\n",
        "  elif row['zip'] >= 11201  and row['zip'] <= 11256:\n",
        "    return 'brooklyn'\n",
        "  return 'Outside NYC'"
      ],
      "metadata": {
        "id": "jF-G3s0y415T"
      },
      "execution_count": null,
      "outputs": []
    },
    {
      "cell_type": "code",
      "source": [
        "# Remove last 4 digits of postal code\n",
        "ziplist = []\n",
        "for zip in addresses[\"postalcode\"]:\n",
        "    zip_shortened = re.sub('-\\d{4}$', '', zip)\n",
        "    ziplist.append(zip_shortened) #append to list\n",
        "addresses[\"zip\"]=ziplist #add list as column\n",
        "\n",
        "addresses['zip'] = addresses['zip'].astype(int) #Convert string to numeric\n",
        " \n",
        "#Apply borough expression to create a borough variable\n",
        "addresses['borough'] = addresses.apply(lambda row: categorize_borough(row), axis=1)"
      ],
      "metadata": {
        "id": "HwIu_vZ74_GO"
      },
      "execution_count": null,
      "outputs": []
    },
    {
      "cell_type": "code",
      "source": [
        "#1. Check what property types there are\n",
        "index.propertytype.value_counts()\n",
        "#2. Merge index w/addresses to get borough and property types\n",
        "df = pd.merge(index, addresses)\n",
        "#3. Subset down to resident housing\n",
        "residential_df = df[df[\"propertytype\"] == 'Residential']\n",
        "#4. Subset down to cities in Brooklyn, Bronx, Manhattan, Staten Island, Queens, and manhattan\n",
        "residential_df = residential_df.loc[residential_df['borough'].isin(['brooklyn', \"bronx\", \"manhattan\", \"staten island\", \"queens\"])]\n",
        "#5. Group the residential housing by bourough\n",
        "residential_df.borough.value_counts()"
      ],
      "metadata": {
        "id": "7Ayuhtwt4wEZ",
        "colab": {
          "base_uri": "https://localhost:8080/"
        },
        "outputId": "fb65b8be-167b-46a6-ca96-96673c125a9a"
      },
      "execution_count": null,
      "outputs": [
        {
          "output_type": "execute_result",
          "data": {
            "text/plain": [
              "bronx            539261\n",
              "brooklyn         454223\n",
              "manhattan        334827\n",
              "queens           268608\n",
              "staten island     37256\n",
              "Name: borough, dtype: int64"
            ]
          },
          "metadata": {},
          "execution_count": 7
        }
      ]
    },
    {
      "cell_type": "markdown",
      "source": [
        "###Court cases by month"
      ],
      "metadata": {
        "id": "64VePx4z2M7n"
      }
    },
    {
      "cell_type": "markdown",
      "source": [
        "Residential only"
      ],
      "metadata": {
        "id": "7M-tK7fS24sc"
      }
    },
    {
      "cell_type": "code",
      "source": [
        "# Create new column that extracts month from the filedate\n",
        "monthlist = []\n",
        "for i in residential_df[\"fileddate\"]:\n",
        "  month_str = re.search('-(.+?)-', i).group(1) #extract month w/regexp\n",
        "  monthlist.append(month_str) #append to list\n",
        "residential_df[\"month\"]=monthlist #add list as column\n",
        "\n",
        "# Count housing for each month\n",
        "residential_df.month.value_counts()"
      ],
      "metadata": {
        "colab": {
          "base_uri": "https://localhost:8080/"
        },
        "id": "oqbmcocWr-Zu",
        "outputId": "521f514b-1cf6-4558-db5d-d9f4733274ba"
      },
      "execution_count": null,
      "outputs": [
        {
          "output_type": "execute_result",
          "data": {
            "text/plain": [
              "08    150721\n",
              "03    147143\n",
              "10    143989\n",
              "01    137725\n",
              "09    137459\n",
              "02    137010\n",
              "06    134992\n",
              "05    134552\n",
              "11    131669\n",
              "07    129942\n",
              "04    126661\n",
              "12    122312\n",
              "Name: month, dtype: int64"
            ]
          },
          "metadata": {},
          "execution_count": 8
        }
      ]
    },
    {
      "cell_type": "markdown",
      "source": [
        "Residential and Commercial"
      ],
      "metadata": {
        "id": "IX0xVZrs255P"
      }
    },
    {
      "cell_type": "code",
      "source": [
        "# Create new column that extracts month from the filedate\n",
        "monthlist = []\n",
        "for i in df[\"fileddate\"]:\n",
        "  month_str = re.search('-(.+?)-', i).group(1) #extract month w/regexp\n",
        "  monthlist.append(month_str) #append to list\n",
        "df[\"month\"]=monthlist #add list as column\n",
        "\n",
        "# Count housing for each month\n",
        "df.month.value_counts()"
      ],
      "metadata": {
        "colab": {
          "base_uri": "https://localhost:8080/"
        },
        "id": "BT_piMPH27Zu",
        "outputId": "fa024ead-5a54-4384-b8be-f9ccae55acd1"
      },
      "execution_count": null,
      "outputs": [
        {
          "output_type": "execute_result",
          "data": {
            "text/plain": [
              "08    221292\n",
              "10    207843\n",
              "03    201335\n",
              "09    200599\n",
              "06    200444\n",
              "07    194895\n",
              "01    193538\n",
              "05    190754\n",
              "02    188453\n",
              "11    187747\n",
              "04    177924\n",
              "12    170779\n",
              "Name: month, dtype: int64"
            ]
          },
          "metadata": {},
          "execution_count": 9
        }
      ]
    },
    {
      "cell_type": "markdown",
      "source": [
        "###Top 10 NYC ZIP codes with residential court cases before pandemic"
      ],
      "metadata": {
        "id": "kqXeuzM82qBM"
      }
    },
    {
      "cell_type": "code",
      "source": [
        "# 1. Convert date to datetime type\n",
        "residential_df['fileddate']= pd.to_datetime(residential_df['fileddate'])\n",
        "\n",
        "# 2. Get pre-covid cases by zip code #\n",
        "residential_precovid = residential_df.loc[(residential_df['fileddate'] < '2020-03-01')] # Subset to pre-covid\n",
        "\n",
        "# 3. Get ZIP codes w/residential court cases pre-covid\n",
        "precovid_cases = residential_precovid.zip.value_counts()\n",
        "print(residential_precovid.zip.value_counts().head(10)) # Display top 10 zip codes w/most court cases"
      ],
      "metadata": {
        "colab": {
          "base_uri": "https://localhost:8080/"
        },
        "id": "K1qWtkMaCZON",
        "outputId": "76edbcfe-582d-4f8f-cbde-07a40f526f85"
      },
      "execution_count": null,
      "outputs": [
        {
          "output_type": "stream",
          "name": "stdout",
          "text": [
            "10456    31881\n",
            "10453    29872\n",
            "10457    25781\n",
            "10467    25722\n",
            "10452    25323\n",
            "11212    24128\n",
            "10458    22940\n",
            "10468    22622\n",
            "11226    21662\n",
            "10029    19300\n",
            "Name: zip, dtype: int64\n"
          ]
        }
      ]
    },
    {
      "cell_type": "markdown",
      "source": [
        "###Top 10 NYC ZIP codes with residential court cases post-pandemic"
      ],
      "metadata": {
        "id": "jr1OOk_QGEex"
      }
    },
    {
      "cell_type": "code",
      "source": [
        "# Get post-covid cases #\n",
        "residential_postcovid = residential_df.loc[(residential_df['fileddate'] >= '2020-03-01')] # Subset to post-covid\n",
        "# Count number of cases per zip code post-covid\n",
        "postcovid_cases = residential_postcovid.zip.value_counts()\n",
        "print(postcovid_cases.head(20))"
      ],
      "metadata": {
        "colab": {
          "base_uri": "https://localhost:8080/"
        },
        "id": "fyjJMQOZGEEz",
        "outputId": "6fa68b38-80db-484f-bbc8-bb91f06bd3cf"
      },
      "execution_count": null,
      "outputs": [
        {
          "output_type": "stream",
          "name": "stdout",
          "text": [
            "10453    16535\n",
            "11226    16518\n",
            "10467    15040\n",
            "10456    14865\n",
            "10457    14260\n",
            "10458    14193\n",
            "10452    14094\n",
            "10468    13539\n",
            "11212    11256\n",
            "11207    10630\n",
            "10031     9764\n",
            "10460     9752\n",
            "11368     9663\n",
            "11233     9418\n",
            "11225     9259\n",
            "11213     9104\n",
            "10462     9007\n",
            "11208     8936\n",
            "10032     8674\n",
            "11203     8672\n",
            "Name: zip, dtype: int64\n"
          ]
        }
      ]
    },
    {
      "cell_type": "markdown",
      "source": [
        "###Comparing the change in court cases since the pre-pandemic"
      ],
      "metadata": {
        "id": "P4lou_X7i6HU"
      }
    },
    {
      "cell_type": "code",
      "source": [
        "# Convert postcovid and precovid case number into dataframes and merge\n",
        "precovid_cases = residential_precovid.zip.value_counts().rename_axis('zip').to_frame('precovid_cases')\n",
        "\n",
        "# Create column subtracting postcovid and precovid case number\n",
        "postcovid_cases = residential_postcovid.zip.value_counts().rename_axis('zip').to_frame('postcovid_cases')\n",
        "\n",
        "# Merge pre-covid and post-covid case count by zip code\n",
        "cases = pd.merge(precovid_cases, postcovid_cases, on = \"zip\")\n",
        "\n",
        "# Create column getting change in cases\n",
        "cases['case_difference'] = cases['postcovid_cases'] - cases[\"precovid_cases\"]\n",
        "\n",
        "cases.sort_values(by = \"case_difference\", ascending = False).head(10) # sort in ascending order"
      ],
      "metadata": {
        "colab": {
          "base_uri": "https://localhost:8080/",
          "height": 394
        },
        "id": "M9f3oSyBsix9",
        "outputId": "140eb305-b705-4f19-c55e-c77f424bd35d"
      },
      "execution_count": null,
      "outputs": [
        {
          "output_type": "execute_result",
          "data": {
            "text/plain": [
              "       precovid_cases  postcovid_cases  case_difference\n",
              "zip                                                    \n",
              "11550              15             4137             4122\n",
              "11520              24             1133             1109\n",
              "11590               3              905              902\n",
              "11105            1677             2035              358\n",
              "11575               9              336              327\n",
              "11581               1              297              296\n",
              "10005             464              747              283\n",
              "11021               6              273              267\n",
              "11417             898             1129              231\n",
              "10018             741              964              223"
            ],
            "text/html": [
              "\n",
              "  <div id=\"df-b49a26ec-26d8-43d6-8088-cb1538a4d2de\">\n",
              "    <div class=\"colab-df-container\">\n",
              "      <div>\n",
              "<style scoped>\n",
              "    .dataframe tbody tr th:only-of-type {\n",
              "        vertical-align: middle;\n",
              "    }\n",
              "\n",
              "    .dataframe tbody tr th {\n",
              "        vertical-align: top;\n",
              "    }\n",
              "\n",
              "    .dataframe thead th {\n",
              "        text-align: right;\n",
              "    }\n",
              "</style>\n",
              "<table border=\"1\" class=\"dataframe\">\n",
              "  <thead>\n",
              "    <tr style=\"text-align: right;\">\n",
              "      <th></th>\n",
              "      <th>precovid_cases</th>\n",
              "      <th>postcovid_cases</th>\n",
              "      <th>case_difference</th>\n",
              "    </tr>\n",
              "    <tr>\n",
              "      <th>zip</th>\n",
              "      <th></th>\n",
              "      <th></th>\n",
              "      <th></th>\n",
              "    </tr>\n",
              "  </thead>\n",
              "  <tbody>\n",
              "    <tr>\n",
              "      <th>11550</th>\n",
              "      <td>15</td>\n",
              "      <td>4137</td>\n",
              "      <td>4122</td>\n",
              "    </tr>\n",
              "    <tr>\n",
              "      <th>11520</th>\n",
              "      <td>24</td>\n",
              "      <td>1133</td>\n",
              "      <td>1109</td>\n",
              "    </tr>\n",
              "    <tr>\n",
              "      <th>11590</th>\n",
              "      <td>3</td>\n",
              "      <td>905</td>\n",
              "      <td>902</td>\n",
              "    </tr>\n",
              "    <tr>\n",
              "      <th>11105</th>\n",
              "      <td>1677</td>\n",
              "      <td>2035</td>\n",
              "      <td>358</td>\n",
              "    </tr>\n",
              "    <tr>\n",
              "      <th>11575</th>\n",
              "      <td>9</td>\n",
              "      <td>336</td>\n",
              "      <td>327</td>\n",
              "    </tr>\n",
              "    <tr>\n",
              "      <th>11581</th>\n",
              "      <td>1</td>\n",
              "      <td>297</td>\n",
              "      <td>296</td>\n",
              "    </tr>\n",
              "    <tr>\n",
              "      <th>10005</th>\n",
              "      <td>464</td>\n",
              "      <td>747</td>\n",
              "      <td>283</td>\n",
              "    </tr>\n",
              "    <tr>\n",
              "      <th>11021</th>\n",
              "      <td>6</td>\n",
              "      <td>273</td>\n",
              "      <td>267</td>\n",
              "    </tr>\n",
              "    <tr>\n",
              "      <th>11417</th>\n",
              "      <td>898</td>\n",
              "      <td>1129</td>\n",
              "      <td>231</td>\n",
              "    </tr>\n",
              "    <tr>\n",
              "      <th>10018</th>\n",
              "      <td>741</td>\n",
              "      <td>964</td>\n",
              "      <td>223</td>\n",
              "    </tr>\n",
              "  </tbody>\n",
              "</table>\n",
              "</div>\n",
              "      <button class=\"colab-df-convert\" onclick=\"convertToInteractive('df-b49a26ec-26d8-43d6-8088-cb1538a4d2de')\"\n",
              "              title=\"Convert this dataframe to an interactive table.\"\n",
              "              style=\"display:none;\">\n",
              "        \n",
              "  <svg xmlns=\"http://www.w3.org/2000/svg\" height=\"24px\"viewBox=\"0 0 24 24\"\n",
              "       width=\"24px\">\n",
              "    <path d=\"M0 0h24v24H0V0z\" fill=\"none\"/>\n",
              "    <path d=\"M18.56 5.44l.94 2.06.94-2.06 2.06-.94-2.06-.94-.94-2.06-.94 2.06-2.06.94zm-11 1L8.5 8.5l.94-2.06 2.06-.94-2.06-.94L8.5 2.5l-.94 2.06-2.06.94zm10 10l.94 2.06.94-2.06 2.06-.94-2.06-.94-.94-2.06-.94 2.06-2.06.94z\"/><path d=\"M17.41 7.96l-1.37-1.37c-.4-.4-.92-.59-1.43-.59-.52 0-1.04.2-1.43.59L10.3 9.45l-7.72 7.72c-.78.78-.78 2.05 0 2.83L4 21.41c.39.39.9.59 1.41.59.51 0 1.02-.2 1.41-.59l7.78-7.78 2.81-2.81c.8-.78.8-2.07 0-2.86zM5.41 20L4 18.59l7.72-7.72 1.47 1.35L5.41 20z\"/>\n",
              "  </svg>\n",
              "      </button>\n",
              "      \n",
              "  <style>\n",
              "    .colab-df-container {\n",
              "      display:flex;\n",
              "      flex-wrap:wrap;\n",
              "      gap: 12px;\n",
              "    }\n",
              "\n",
              "    .colab-df-convert {\n",
              "      background-color: #E8F0FE;\n",
              "      border: none;\n",
              "      border-radius: 50%;\n",
              "      cursor: pointer;\n",
              "      display: none;\n",
              "      fill: #1967D2;\n",
              "      height: 32px;\n",
              "      padding: 0 0 0 0;\n",
              "      width: 32px;\n",
              "    }\n",
              "\n",
              "    .colab-df-convert:hover {\n",
              "      background-color: #E2EBFA;\n",
              "      box-shadow: 0px 1px 2px rgba(60, 64, 67, 0.3), 0px 1px 3px 1px rgba(60, 64, 67, 0.15);\n",
              "      fill: #174EA6;\n",
              "    }\n",
              "\n",
              "    [theme=dark] .colab-df-convert {\n",
              "      background-color: #3B4455;\n",
              "      fill: #D2E3FC;\n",
              "    }\n",
              "\n",
              "    [theme=dark] .colab-df-convert:hover {\n",
              "      background-color: #434B5C;\n",
              "      box-shadow: 0px 1px 3px 1px rgba(0, 0, 0, 0.15);\n",
              "      filter: drop-shadow(0px 1px 2px rgba(0, 0, 0, 0.3));\n",
              "      fill: #FFFFFF;\n",
              "    }\n",
              "  </style>\n",
              "\n",
              "      <script>\n",
              "        const buttonEl =\n",
              "          document.querySelector('#df-b49a26ec-26d8-43d6-8088-cb1538a4d2de button.colab-df-convert');\n",
              "        buttonEl.style.display =\n",
              "          google.colab.kernel.accessAllowed ? 'block' : 'none';\n",
              "\n",
              "        async function convertToInteractive(key) {\n",
              "          const element = document.querySelector('#df-b49a26ec-26d8-43d6-8088-cb1538a4d2de');\n",
              "          const dataTable =\n",
              "            await google.colab.kernel.invokeFunction('convertToInteractive',\n",
              "                                                     [key], {});\n",
              "          if (!dataTable) return;\n",
              "\n",
              "          const docLinkHtml = 'Like what you see? Visit the ' +\n",
              "            '<a target=\"_blank\" href=https://colab.research.google.com/notebooks/data_table.ipynb>data table notebook</a>'\n",
              "            + ' to learn more about interactive tables.';\n",
              "          element.innerHTML = '';\n",
              "          dataTable['output_type'] = 'display_data';\n",
              "          await google.colab.output.renderOutput(dataTable, element);\n",
              "          const docLink = document.createElement('div');\n",
              "          docLink.innerHTML = docLinkHtml;\n",
              "          element.appendChild(docLink);\n",
              "        }\n",
              "      </script>\n",
              "    </div>\n",
              "  </div>\n",
              "  "
            ]
          },
          "metadata": {},
          "execution_count": 12
        }
      ]
    },
    {
      "cell_type": "code",
      "source": [
        "#*For GIS Analysis: Merge evictions data w/renters while there is still longitude and latitude in the dataset\n",
        "\n",
        "#Group by zip code and count evictions\n",
        "residential_df.head()\n",
        "residential_df['court_cases'] = residential_df.groupby(['zip'])['indexnumberid'].transform('count') \n",
        "residential_df2 = residential_df.drop_duplicates(subset=['zip'], keep='first')\n",
        "residential_df2.to_csv(\"court_cases.csv\") #export to csv file"
      ],
      "metadata": {
        "id": "QguWGmhm1SWm"
      },
      "execution_count": null,
      "outputs": []
    },
    {
      "cell_type": "markdown",
      "source": [
        "# **Part 2: Predicting eviction cases**"
      ],
      "metadata": {
        "id": "e-p3uDAWYsm2"
      }
    },
    {
      "cell_type": "markdown",
      "source": [
        "#Model 1: Predicting eviction from denial in court"
      ],
      "metadata": {
        "id": "xaPo8v5_MI5l"
      }
    },
    {
      "cell_type": "markdown",
      "source": [
        "Target variable data"
      ],
      "metadata": {
        "id": "R7WuT5TCM5BK"
      }
    },
    {
      "cell_type": "code",
      "source": [
        "# Extract decision from highlight\n",
        "decisionslist = []\n",
        "for decision in decisions[\"highlight\"]:\n",
        "    decision = decision[0:4] #get first 4 digits\n",
        "    decisionslist.append(decision) #append to list\n",
        "decisions[\"decision\"] = decisionslist #add list as column\n",
        "decisions.decision.value_counts() #Produce value counts\n",
        "\n",
        "# Judg and Defa = Judgment/Default Judgment Verdict\n",
        "# Denied = Decision Denied, Null, Stipulated Verdict"
      ],
      "metadata": {
        "colab": {
          "base_uri": "https://localhost:8080/"
        },
        "id": "wKaAAVFdjjCI",
        "outputId": "e73c54cd-6ed7-4926-dba3-9d1fb38d8f3a"
      },
      "execution_count": null,
      "outputs": [
        {
          "output_type": "execute_result",
          "data": {
            "text/plain": [
              "Judg    749625\n",
              "Deci      5280\n",
              "Defa      3692\n",
              "null       166\n",
              "Stip       154\n",
              "Name: decision, dtype: int64"
            ]
          },
          "metadata": {},
          "execution_count": 14
        }
      ]
    },
    {
      "cell_type": "code",
      "source": [
        "#Create a borough variable by zip codes\n",
        "def categorize_verdict(row):  \n",
        "  if row['decision'] == \"Judg\":\n",
        "    return 1 #Judgment\n",
        "  elif row['decision'] == \"Defa\":\n",
        "    return 1\n",
        "  elif row['decision'] == \"Deci\":\n",
        "    return 0 #denied, null, stip\n",
        "  elif row['decision'] == \"Stip\":\n",
        "    return 0\n",
        "  elif row['decision'] == \"null\":\n",
        "    return 0 \n",
        "#Apply borough expression to create a borough variable\n",
        "decisions['verdict'] = decisions.apply(lambda row: categorize_verdict(row), axis=1)"
      ],
      "metadata": {
        "id": "81pKP4rMYGLS"
      },
      "execution_count": null,
      "outputs": []
    },
    {
      "cell_type": "code",
      "source": [
        "#Merge index with verdict\n",
        "decisions_address = pd.merge(decisions, addresses, on = \"indexnumberid\", how = \"left\")"
      ],
      "metadata": {
        "id": "9oZACkwXbBtj"
      },
      "execution_count": null,
      "outputs": []
    },
    {
      "cell_type": "code",
      "source": [
        "def clean_rent_data(file, level):\n",
        "  df = pd.read_csv(file)\n",
        "  \n",
        "  # Move first row as header\n",
        "  new_header = df.iloc[0] #grab the first row for the header\n",
        "  df = df[1:] #take the data less the header row\n",
        "  df.columns = new_header #set the header row as the df header\n",
        "  df.head()\n",
        "\n",
        "  # Remove any columns starting with annotation or margin\n",
        "  unwanted = df.columns[df.columns.str.startswith('Margin', na = False)] #select columns starting w/count\n",
        "  df.drop(unwanted, axis=1, inplace=True) # drop columns\n",
        "  unwanted2 = df.columns[df.columns.str.startswith('Annotation', na = False)] #select columns starting w/count\n",
        "  df.drop(unwanted2, axis=1, inplace=True) # drop columns\n",
        "\n",
        "  # Keep only data on renters and location\n",
        "  df = df.filter(regex='Renter|Geo')\n",
        "\n",
        "  #Remove unwanted substring from column header\n",
        "  remove = \"Estimate!!Renter-occupied housing units!!Occupied housing units!!\"\n",
        "  df.columns = df.columns.str.replace(remove,'')\n",
        "\n",
        "  #Remove unwanted substring from column header\n",
        "  remove2 = \"RACE AND HISPANIC OR LATINO ORIGIN OF HOUSEHOLDER!!\"\n",
        "  remove3 = \"One race --!!\"\n",
        "  remove4 = \"AGE OF HOUSEHOLDER!!\"\n",
        "  remove5 = \"EDUCATIONAL ATTAINMENT OF HOUSEHOLDER!!\"\n",
        "  remove6 = \"YEAR HOUSEHOLDER MOVED INTO UNIT!!\"\n",
        "  remove_list = [remove2, remove3, remove4, remove5, remove6]\n",
        "  i = 0\n",
        "  for i in range(len(remove_list)):\n",
        "    df.columns = df.columns.str.replace(remove_list[i],'')\n",
        "  \n",
        "  #Features for Model 1 \n",
        "  if level == \"zip\":\n",
        "    # clean zip variable\n",
        "    df.rename(columns = {'Geographic Area Name':'zip'}, inplace = True) #Rename column to zip\n",
        "    df['zip'] = df['zip'].str.replace(\"ZCTA5 \",\"\").astype(int) #Remove unwanted name and convert to int\n",
        "    #Merge renter demographic data with evicion data\n",
        "    df = pd.merge(decisions_address[['verdict', 'zip']], df, on = \"zip\")\n",
        "\n",
        "    # Remove any unnecessary columns\n",
        "    df.head()\n",
        "    remove_these_cols = [\"Geography\"] \n",
        "    df = df.drop(columns = remove_these_cols)\n",
        "\n",
        "    # Remove any rows if they have more than 6 missing values or 6 zeros\n",
        "    df = df[df.isnull().sum(axis=1) < 6]\n",
        "    df = df[df.where(df == 0).sum(axis=1) < 6]\n",
        "    # Return DF\n",
        "    return(df)\n",
        "\n",
        "  #Features for Model 2\n",
        "  elif level == \"tract\":\n",
        "\n",
        "    #Subset renters tract data to 5 counties\n",
        "    df = df[df[\"Geographic Area Name\"].str.contains('Bronx|Kings|New York|Queens|Richmond|Nassau')]\n",
        "\n",
        "    # Extract 6 digit census tract data from column #\n",
        "    df[\"Census Tract\"] = df['Geography'].str[-6:]\n",
        "\n",
        "    #Remove zeros in census tract (to match eviction data with census tract later)\n",
        "    df[\"Census Tract\"] = df['Census Tract'].str.strip('0')\n",
        "    df[\"Census Tract\"].head(10)\n",
        "    df['Census Tract'] = df['Census Tract'].astype(float)\n",
        "\n",
        "    # Add borough based on geographic area info \n",
        "    def categorize_borough2(row):  \n",
        "      if \"Bronx\" in row['Geographic Area Name']:\n",
        "        return 'bronx'\n",
        "      elif \"King\" in row['Geographic Area Name']:\n",
        "        return 'brooklyn'\n",
        "      elif \"New York County\" in row['Geographic Area Name']:\n",
        "        return 'manhattan'\n",
        "      elif \"Richmond\" in row['Geographic Area Name']:\n",
        "        return 'staten island'\n",
        "      elif (\"Nassau\" in row['Geographic Area Name']) or (\"Queens\" in row['Geographic Area Name']):\n",
        "        return 'queens'\n",
        "      return 'Outside NYC'\n",
        "\n",
        "    #Apply borough expression to create a borough variable\n",
        "    df['borough'] = df.apply(lambda row: categorize_borough2(row), axis=1)\n",
        "\n",
        "    ## Import selected housing characteristic data (uncleaned)to add additional housing variables ##\n",
        "    housing_data = pd.read_csv('/content/gdrive/My Drive/renter_data_uncleaned.csv')\n",
        "    #Move first row as header\n",
        "    new_header = housing_data.iloc[0] #grab the first row for the header\n",
        "    housing_data = housing_data[1:] #take the data less the header row\n",
        "    housing_data.columns = new_header #set the header row as the df header\n",
        "\n",
        "    #Remove any columns starting with annotation or margin\n",
        "    unwanted = housing_data.columns[housing_data.columns.str.startswith('Margin', na = False)] #select columns starting w/count\n",
        "    housing_data.drop(unwanted, axis=1, inplace=True) # drop columns\n",
        "    unwanted2 = housing_data.columns[housing_data.columns.str.startswith('Annotation', na = False)] #select columns starting w/count\n",
        "    housing_data.drop(unwanted2, axis=1, inplace=True) # drop columns\n",
        "    unwanted2 = housing_data.columns[housing_data.columns.str.startswith('Percent', na = False)] #select columns starting w/count\n",
        "    housing_data.drop(unwanted2, axis=1, inplace=True) # drop columns\n",
        "    \n",
        "    #Remove unwanted substring from column header\n",
        "    remove = \"Estimate!!\"\n",
        "    housing_data.columns = housing_data.columns.str.replace(remove,'')\n",
        "\n",
        "    #Select columns of interest\n",
        "    housing_data = housing_data.filter(regex='Geography|Median|Occupied housing units!!Lacking|No telephone service available')\n",
        "\n",
        "    #Remove unwanted substring from column header\n",
        "    remove2 = \"SELECTED CHARACTERISTICS!!Occupied housing units!!\"\n",
        "    remove3 = \"GROSS RENT!!Occupied units paying rent!!\"\n",
        "    remove_list = [remove2, remove3]\n",
        "    for i in range(len(remove_list)):\n",
        "      housing_data.columns = housing_data.columns.str.replace(remove_list[i],'')\n",
        "    \n",
        "    #merge housing characteristics with cleaned renters df\n",
        "    df = pd.merge(housing_data, df, on = \"Geography\")\n",
        "\n",
        "    #return data\n",
        "    return(df)"
      ],
      "metadata": {
        "id": "BPiTbrXi1mkf"
      },
      "execution_count": null,
      "outputs": []
    },
    {
      "cell_type": "code",
      "source": [
        "#Clean data at the zip and census level\n",
        "data_zip = clean_rent_data('/content/gdrive/My Drive/renters_zip_data.csv', level = \"zip\")\n",
        "data_ct = clean_rent_data('/content/gdrive/My Drive/renters_ct_data.csv', level = \"tract\")"
      ],
      "metadata": {
        "id": "s4j3V5ss0zat",
        "colab": {
          "base_uri": "https://localhost:8080/"
        },
        "outputId": "75c77ff1-f3b5-4dd9-8030-c6513026e580"
      },
      "execution_count": null,
      "outputs": [
        {
          "output_type": "stream",
          "name": "stderr",
          "text": [
            "<ipython-input-18-b36797cd8005>:2: DtypeWarning: Columns (2,3,4,5,6,7,8,9,10,11,12,13,14,15,16,17,18,19,20,21,22,23,24,25,26,27,28,29,30,31,32,33,34,35,36,37,38,39,40,41,42,43,44,45,46,47,48,49,50,51,52,53,54,55,56,57,58,59,60,61,62,63,64,65,66,67,68,69,70,71,72,73,74,75,76,77,78,79,80,81,82,83,84,85,86,87,88,89,90,91,92,93,94,95,96,97,98,99,100,101,102,103,104,105,106,107,108,109,110,111,112,113,218,219,220,221,222,223,224,225,226,227,228,229,230,231,232,233,234,235,236,237,238,239,240,241,242,243,244,245,246,247,248,249,250,251,252,253,254,255,256,257,258,259,260,261,262,263,264,265,266,267,268,269,270,271,272,273,274,275,276,277,278,279,280,281,282,283,284,285,286,287,288,289,290,291,292,293,294,295,296,297,298,299,300,301,302,303,304,305,306,307,308,309,310,311,312,313,314,315,316,317,318,319,320,321,322,323,324,325,326,327,328,329,434,435,436,437,438,439,440,441,442,443,444,445,446,447,448,449,450,451,452,453,454,455,456,457,458,459,460,461,462,463,464,465,466,467,468,469,470,471,472,473,474,475,476,477,478,479,480,481,482,483,484,485,486,487,488,489,490,491,492,493,494,495,496,497,498,499,500,501,502,503,504,505,506,507,508,509,510,511,512,513,514,515,516,517,518,519,520,521,522,523,524,525,526,527,528,529,530,531,532,533,534,535,536,537,538,539,540,541,542,543,544,545) have mixed types.Specify dtype option on import or set low_memory=False.\n",
            "  data_zip = clean_rent_data('/content/gdrive/My Drive/renters_zip_data.csv', level = \"zip\")\n",
            "<ipython-input-18-b36797cd8005>:3: DtypeWarning: Columns (2,3,4,5,6,7,8,9,10,11,12,13,14,15,16,17,18,19,20,21,22,23,24,25,26,27,28,29,30,31,32,33,34,35,36,37,38,39,40,41,42,43,44,45,46,47,48,49,50,51,52,53,54,55,56,57,58,59,60,61,62,63,64,65,66,67,68,69,70,71,72,73,74,75,76,77,78,79,80,81,82,83,84,85,86,87,88,89,90,91,92,93,94,95,96,97,98,99,100,101,102,103,104,105,106,107,108,109,110,111,112,113,218,219,220,221,222,223,224,225,226,227,228,229,230,231,232,233,234,235,236,237,238,239,240,241,242,243,244,245,246,247,248,249,250,251,252,253,254,255,256,257,258,259,260,261,262,263,264,265,266,267,268,269,270,271,272,273,274,275,276,277,278,279,280,281,282,283,284,285,286,287,288,289,290,291,292,293,294,295,296,297,298,299,300,301,302,303,304,305,306,307,308,309,310,311,312,313,314,315,316,317,318,319,320,321,322,323,324,325,326,327,328,329,434,435,436,437,438,439,440,441,442,443,444,445,446,447,448,449,450,451,452,453,454,455,456,457,458,459,460,461,462,463,464,465,466,467,468,469,470,471,472,473,474,475,476,477,478,479,480,481,482,483,484,485,486,487,488,489,490,491,492,493,494,495,496,497,498,499,500,501,502,503,504,505,506,507,508,509,510,511,512,513,514,515,516,517,518,519,520,521,522,523,524,525,526,527,528,529,530,531,532,533,534,535,536,537,538,539,540,541,542,543,544,545) have mixed types.Specify dtype option on import or set low_memory=False.\n",
            "  data_ct = clean_rent_data('/content/gdrive/My Drive/renters_ct_data.csv', level = \"tract\")\n",
            "<ipython-input-18-b36797cd8005>:3: DtypeWarning: Columns (2,3,4,5,6,7,8,9,10,11,12,13,22,23,24,25,26,27,28,29,30,31,32,33,34,35,36,37,38,39,40,41,42,43,44,45,46,47,48,49,50,51,52,53,54,55,56,57,58,59,60,61,62,63,64,65,66,67,68,69,70,71,72,73,74,75,76,77,78,79,80,81,82,83,84,85,86,87,88,89,90,91,92,93,94,95,96,97,98,99,100,101,102,103,104,105,106,107,108,109,110,111,112,113,114,115,116,117,118,119,120,121,122,123,124,125,126,127,128,129,130,131,132,133,134,135,136,137,138,139,140,141,142,143,144,145,150,151,152,153,154,155,156,157,158,159,160,161,162,163,164,165,166,167,168,169,170,171,172,173,174,175,176,177,178,179,180,181,182,183,184,185,186,187,188,189,198,199,200,201,202,203,204,205,206,207,208,209,210,211,212,213,214,215,216,217,218,219,220,221,222,223,224,225,226,227,228,229,230,231,232,233,234,235,236,237,238,239,240,241,242,243,244,245,246,247,248,249,250,251,252,253,254,255,256,257,258,259,260,261,262,263,264,265,266,267,268,269,270,271,272,273,274,275,276,277,278,279,280,281,282,283,284,285,286,287,288,289,290,291,292,293,294,295,296,297,298,299,300,301,302,303,304,305,306,307,308,309,310,311,312,313,314,315,316,317,318,319,320,321,322,323,324,325,326,327,328,329,330,331,332,333,334,335,336,337,338,339,340,341,342,343,344,345,346,347,348,349,350,351,352,353,358,359,360,361,362,363,364,365,366,367,368,369,370,371,372,373,374,375,376,377,378,379,380,381,382,383,384,385,386,387,388,389,390,391,392,393,394,395,396,397,398,399,400,401,406,407,408,409,410,411,412,413,414,415,416,417,418,419,420,421,422,423,424,425,426,427,428,429,430,431,432,433,438,439,440,441,442,443,444,445,446,447,448,449,450,451,452,453,454,455,456,457,458,459,460,461,462,463,464,465,466,467,468,469,470,471,472,473,474,475,476,477,478,479,480,481,482,483,484,485,486,487,488,489,490,491,492,493,494,495,496,497,498,499,500,501,502,503,504,505,506,507,508,509,510,511,512,513,514,515,516,517,518,519,520,521,522,523,524,525,526,527,528,529,530,531,532,533,538,539,540,541,542,543,544,545,546,547,548,549,550,551,552,553,554,555,556,557,558,559,560,561,562,563,564,565,566,567,568,569,570,571,572,573,574,577,594,595,634,637,678,681,722,723,750,753,770,773,798,801,818,821,858,859,874,877,890,893,930,933,942,945,978,981,1010,1013,1038,1041,1074,1077,1114,1117) have mixed types.Specify dtype option on import or set low_memory=False.\n",
            "  data_ct = clean_rent_data('/content/gdrive/My Drive/renters_ct_data.csv', level = \"tract\")\n"
          ]
        }
      ]
    },
    {
      "cell_type": "code",
      "source": [
        "y = data_zip[\"verdict\"]\n",
        "x = data_zip.loc[:, data_zip.columns != 'verdict']\n",
        "#Split data into training and testing set\n",
        "x_train, x_test, y_train, y_test = train_test_split(x,y, random_state = 1) #Split data. X is explanatory, and y is a target variable"
      ],
      "metadata": {
        "id": "t6mFNQ5Uznm-"
      },
      "execution_count": null,
      "outputs": []
    },
    {
      "cell_type": "code",
      "source": [
        "#Build logistic regression model\n",
        "log = LogisticRegression()\n",
        "log.fit(x_train, y_train)\n",
        "prediction = log.predict(x_test) \n",
        "print(\"Predictions: \", prediction)\n",
        "print(\"Logistic Regression .coef_: {}\".format(log.coef_))\n",
        "print(\"Logistic Regression test score : {:.3f}\".format(log.score(x_test, y_test)))"
      ],
      "metadata": {
        "colab": {
          "base_uri": "https://localhost:8080/"
        },
        "id": "-UFjcPRwzwpE",
        "outputId": "eb716a59-29bf-4473-e3f1-858025427f6e"
      },
      "execution_count": null,
      "outputs": [
        {
          "output_type": "stream",
          "name": "stderr",
          "text": [
            "/usr/local/lib/python3.8/dist-packages/sklearn/linear_model/_logistic.py:814: ConvergenceWarning: lbfgs failed to converge (status=1):\n",
            "STOP: TOTAL NO. of ITERATIONS REACHED LIMIT.\n",
            "\n",
            "Increase the number of iterations (max_iter) or scale the data as shown in:\n",
            "    https://scikit-learn.org/stable/modules/preprocessing.html\n",
            "Please also refer to the documentation for alternative solver options:\n",
            "    https://scikit-learn.org/stable/modules/linear_model.html#logistic-regression\n",
            "  n_iter_i = _check_optimize_result(\n"
          ]
        },
        {
          "output_type": "stream",
          "name": "stdout",
          "text": [
            "Predictions:  [1 1 1 ... 1 1 1]\n",
            "Logistic Regression .coef_: [[ 3.60260368e-04 -3.62001670e-05 -1.54806788e-04  1.17696319e-04\n",
            "   5.50319732e-05  5.50441769e-05  3.44239131e-06 -8.85252746e-05\n",
            "  -2.40829647e-05  3.02466816e-04  2.41025071e-04 -1.45378197e-04\n",
            "  -1.00957029e-04 -2.56449771e-04  2.11716424e-04  1.75573025e-04\n",
            "  -3.43387995e-05  1.13634182e-04 -1.02354046e-05 -1.00410614e-04\n",
            "   7.40214001e-05  4.24451706e-07  2.47745360e-04 -1.38762229e-05\n",
            "  -2.60603313e-06 -2.55977862e-04 -9.21134857e-05  8.06280769e-05]]\n",
            "Logistic Regression test score : 0.986\n"
          ]
        }
      ]
    },
    {
      "cell_type": "code",
      "source": [
        "# Create readable format for coefficients\n",
        "col_names = list(x.columns.values.tolist()) #Get Column Names from explanatory variables\n",
        "coefs = pd.DataFrame(log.coef_) #Convert logistic regression coefficients into a dataframe\n",
        "coefs.columns = col_names\n",
        "pd.set_option('display.max_columns', None)\n",
        "coefs"
      ],
      "metadata": {
        "id": "ScEzkQgWoBdL",
        "colab": {
          "base_uri": "https://localhost:8080/",
          "height": 249
        },
        "outputId": "0370d8b9-871b-45ff-a10f-bcafe5876d8b"
      },
      "execution_count": null,
      "outputs": [
        {
          "output_type": "execute_result",
          "data": {
            "text/plain": [
              "       zip  Estimate!!Renter-occupied housing units!!Occupied housing units  \\\n",
              "0  0.00036                                          -0.000036                 \n",
              "\n",
              "      White  Black or African American  American Indian and Alaska Native  \\\n",
              "0 -0.000155                   0.000118                           0.000055   \n",
              "\n",
              "      Asian  Native Hawaiian and Other Pacific Islander  Some other race  \\\n",
              "0  0.000055                                    0.000003        -0.000089   \n",
              "\n",
              "   Two or more races  Hispanic or Latino origin  \\\n",
              "0          -0.000024                   0.000302   \n",
              "\n",
              "   White alone, not Hispanic or Latino  Under 35 years  35 to 44 years  \\\n",
              "0                             0.000241       -0.000145       -0.000101   \n",
              "\n",
              "   45 to 54 years  55 to 64 years  65 to 74 years  75 to 84 years  \\\n",
              "0       -0.000256        0.000212        0.000176       -0.000034   \n",
              "\n",
              "   85 years and over  Less than high school graduate  \\\n",
              "0           0.000114                        -0.00001   \n",
              "\n",
              "   High school graduate (includes equivalency)  \\\n",
              "0                                      -0.0001   \n",
              "\n",
              "   Some college or associate's degree  Bachelor's degree or higher  \\\n",
              "0                            0.000074                 4.244517e-07   \n",
              "\n",
              "   Moved in 2019 or later  Moved in 2015 to 2018  Moved in 2010 to 2014  \\\n",
              "0                0.000248              -0.000014              -0.000003   \n",
              "\n",
              "   Moved in 2000 to 2009  Moved in 1990 to 1999  Moved in 1989 or earlier  \n",
              "0              -0.000256              -0.000092                  0.000081  "
            ],
            "text/html": [
              "\n",
              "  <div id=\"df-9ac85576-25a1-4ec1-ae24-d03c6919cb7b\">\n",
              "    <div class=\"colab-df-container\">\n",
              "      <div>\n",
              "<style scoped>\n",
              "    .dataframe tbody tr th:only-of-type {\n",
              "        vertical-align: middle;\n",
              "    }\n",
              "\n",
              "    .dataframe tbody tr th {\n",
              "        vertical-align: top;\n",
              "    }\n",
              "\n",
              "    .dataframe thead th {\n",
              "        text-align: right;\n",
              "    }\n",
              "</style>\n",
              "<table border=\"1\" class=\"dataframe\">\n",
              "  <thead>\n",
              "    <tr style=\"text-align: right;\">\n",
              "      <th></th>\n",
              "      <th>zip</th>\n",
              "      <th>Estimate!!Renter-occupied housing units!!Occupied housing units</th>\n",
              "      <th>White</th>\n",
              "      <th>Black or African American</th>\n",
              "      <th>American Indian and Alaska Native</th>\n",
              "      <th>Asian</th>\n",
              "      <th>Native Hawaiian and Other Pacific Islander</th>\n",
              "      <th>Some other race</th>\n",
              "      <th>Two or more races</th>\n",
              "      <th>Hispanic or Latino origin</th>\n",
              "      <th>White alone, not Hispanic or Latino</th>\n",
              "      <th>Under 35 years</th>\n",
              "      <th>35 to 44 years</th>\n",
              "      <th>45 to 54 years</th>\n",
              "      <th>55 to 64 years</th>\n",
              "      <th>65 to 74 years</th>\n",
              "      <th>75 to 84 years</th>\n",
              "      <th>85 years and over</th>\n",
              "      <th>Less than high school graduate</th>\n",
              "      <th>High school graduate (includes equivalency)</th>\n",
              "      <th>Some college or associate's degree</th>\n",
              "      <th>Bachelor's degree or higher</th>\n",
              "      <th>Moved in 2019 or later</th>\n",
              "      <th>Moved in 2015 to 2018</th>\n",
              "      <th>Moved in 2010 to 2014</th>\n",
              "      <th>Moved in 2000 to 2009</th>\n",
              "      <th>Moved in 1990 to 1999</th>\n",
              "      <th>Moved in 1989 or earlier</th>\n",
              "    </tr>\n",
              "  </thead>\n",
              "  <tbody>\n",
              "    <tr>\n",
              "      <th>0</th>\n",
              "      <td>0.00036</td>\n",
              "      <td>-0.000036</td>\n",
              "      <td>-0.000155</td>\n",
              "      <td>0.000118</td>\n",
              "      <td>0.000055</td>\n",
              "      <td>0.000055</td>\n",
              "      <td>0.000003</td>\n",
              "      <td>-0.000089</td>\n",
              "      <td>-0.000024</td>\n",
              "      <td>0.000302</td>\n",
              "      <td>0.000241</td>\n",
              "      <td>-0.000145</td>\n",
              "      <td>-0.000101</td>\n",
              "      <td>-0.000256</td>\n",
              "      <td>0.000212</td>\n",
              "      <td>0.000176</td>\n",
              "      <td>-0.000034</td>\n",
              "      <td>0.000114</td>\n",
              "      <td>-0.00001</td>\n",
              "      <td>-0.0001</td>\n",
              "      <td>0.000074</td>\n",
              "      <td>4.244517e-07</td>\n",
              "      <td>0.000248</td>\n",
              "      <td>-0.000014</td>\n",
              "      <td>-0.000003</td>\n",
              "      <td>-0.000256</td>\n",
              "      <td>-0.000092</td>\n",
              "      <td>0.000081</td>\n",
              "    </tr>\n",
              "  </tbody>\n",
              "</table>\n",
              "</div>\n",
              "      <button class=\"colab-df-convert\" onclick=\"convertToInteractive('df-9ac85576-25a1-4ec1-ae24-d03c6919cb7b')\"\n",
              "              title=\"Convert this dataframe to an interactive table.\"\n",
              "              style=\"display:none;\">\n",
              "        \n",
              "  <svg xmlns=\"http://www.w3.org/2000/svg\" height=\"24px\"viewBox=\"0 0 24 24\"\n",
              "       width=\"24px\">\n",
              "    <path d=\"M0 0h24v24H0V0z\" fill=\"none\"/>\n",
              "    <path d=\"M18.56 5.44l.94 2.06.94-2.06 2.06-.94-2.06-.94-.94-2.06-.94 2.06-2.06.94zm-11 1L8.5 8.5l.94-2.06 2.06-.94-2.06-.94L8.5 2.5l-.94 2.06-2.06.94zm10 10l.94 2.06.94-2.06 2.06-.94-2.06-.94-.94-2.06-.94 2.06-2.06.94z\"/><path d=\"M17.41 7.96l-1.37-1.37c-.4-.4-.92-.59-1.43-.59-.52 0-1.04.2-1.43.59L10.3 9.45l-7.72 7.72c-.78.78-.78 2.05 0 2.83L4 21.41c.39.39.9.59 1.41.59.51 0 1.02-.2 1.41-.59l7.78-7.78 2.81-2.81c.8-.78.8-2.07 0-2.86zM5.41 20L4 18.59l7.72-7.72 1.47 1.35L5.41 20z\"/>\n",
              "  </svg>\n",
              "      </button>\n",
              "      \n",
              "  <style>\n",
              "    .colab-df-container {\n",
              "      display:flex;\n",
              "      flex-wrap:wrap;\n",
              "      gap: 12px;\n",
              "    }\n",
              "\n",
              "    .colab-df-convert {\n",
              "      background-color: #E8F0FE;\n",
              "      border: none;\n",
              "      border-radius: 50%;\n",
              "      cursor: pointer;\n",
              "      display: none;\n",
              "      fill: #1967D2;\n",
              "      height: 32px;\n",
              "      padding: 0 0 0 0;\n",
              "      width: 32px;\n",
              "    }\n",
              "\n",
              "    .colab-df-convert:hover {\n",
              "      background-color: #E2EBFA;\n",
              "      box-shadow: 0px 1px 2px rgba(60, 64, 67, 0.3), 0px 1px 3px 1px rgba(60, 64, 67, 0.15);\n",
              "      fill: #174EA6;\n",
              "    }\n",
              "\n",
              "    [theme=dark] .colab-df-convert {\n",
              "      background-color: #3B4455;\n",
              "      fill: #D2E3FC;\n",
              "    }\n",
              "\n",
              "    [theme=dark] .colab-df-convert:hover {\n",
              "      background-color: #434B5C;\n",
              "      box-shadow: 0px 1px 3px 1px rgba(0, 0, 0, 0.15);\n",
              "      filter: drop-shadow(0px 1px 2px rgba(0, 0, 0, 0.3));\n",
              "      fill: #FFFFFF;\n",
              "    }\n",
              "  </style>\n",
              "\n",
              "      <script>\n",
              "        const buttonEl =\n",
              "          document.querySelector('#df-9ac85576-25a1-4ec1-ae24-d03c6919cb7b button.colab-df-convert');\n",
              "        buttonEl.style.display =\n",
              "          google.colab.kernel.accessAllowed ? 'block' : 'none';\n",
              "\n",
              "        async function convertToInteractive(key) {\n",
              "          const element = document.querySelector('#df-9ac85576-25a1-4ec1-ae24-d03c6919cb7b');\n",
              "          const dataTable =\n",
              "            await google.colab.kernel.invokeFunction('convertToInteractive',\n",
              "                                                     [key], {});\n",
              "          if (!dataTable) return;\n",
              "\n",
              "          const docLinkHtml = 'Like what you see? Visit the ' +\n",
              "            '<a target=\"_blank\" href=https://colab.research.google.com/notebooks/data_table.ipynb>data table notebook</a>'\n",
              "            + ' to learn more about interactive tables.';\n",
              "          element.innerHTML = '';\n",
              "          dataTable['output_type'] = 'display_data';\n",
              "          await google.colab.output.renderOutput(dataTable, element);\n",
              "          const docLink = document.createElement('div');\n",
              "          docLink.innerHTML = docLinkHtml;\n",
              "          element.appendChild(docLink);\n",
              "        }\n",
              "      </script>\n",
              "    </div>\n",
              "  </div>\n",
              "  "
            ]
          },
          "metadata": {},
          "execution_count": 28
        }
      ]
    },
    {
      "cell_type": "markdown",
      "source": [
        "#Model 2: Eviction at the census tract level"
      ],
      "metadata": {
        "id": "T7u4RmBjqrG8"
      }
    },
    {
      "cell_type": "code",
      "source": [
        "# Load evictions data\n",
        "evictions = pd.read_csv('/content/gdrive/My Drive/evictions.csv')"
      ],
      "metadata": {
        "id": "35-gDP73qqb8"
      },
      "execution_count": null,
      "outputs": []
    },
    {
      "cell_type": "code",
      "source": [
        "# Group by and count evictions per census\n",
        "evictions['evictions'] = evictions.groupby(['Census Tract'])['Census Tract'].transform('count')\n",
        "evictions = evictions.drop_duplicates(['Census Tract'])\n",
        "\n",
        "# Lowercase borough\n",
        "evictions['borough']=evictions['BOROUGH'].map(str.lower)\n",
        "evictions['borough'] = evictions['borough'].apply(str.lower)"
      ],
      "metadata": {
        "id": "IBGnaCVfhWOP"
      },
      "execution_count": null,
      "outputs": []
    },
    {
      "cell_type": "code",
      "source": [
        "# Merge evictions with renters data\n",
        "data_ct2 = pd.merge(evictions[['Census Tract', 'evictions', 'borough']], data_ct, on = ['Census Tract', \"borough\"], how = \"left\")\n",
        "data_ct2 = data_ct2[data_ct2['Median (dollars)'].notna()]\n",
        "\n",
        "# Remove any unnecessary columns\n",
        "remove_these_cols = [\"Geography\", \"Geographic Area Name\", \"White\"]\n",
        "data_ct2 = data_ct2.drop(columns = remove_these_cols)\n",
        "data_ct2 = data_ct2[data_ct2.columns.drop(list(data_ct2.filter(regex='OWNER|Owner')))]"
      ],
      "metadata": {
        "id": "S-M3dnbsgeY3"
      },
      "execution_count": null,
      "outputs": []
    },
    {
      "cell_type": "code",
      "source": [
        "#* export data for robust clustered-se analysis\n",
        "data_ct2.to_csv(\"renters_data_ct.csv\")\n",
        "#* export data for spatial analysis\n",
        "data_zip4 = data_zip.drop_duplicates(subset=['zip'], keep=\"first\")\n",
        "data_zip4.to_csv(\"renters_data_zip.csv\")"
      ],
      "metadata": {
        "id": "2FcTb__5U9ZS"
      },
      "execution_count": null,
      "outputs": []
    },
    {
      "cell_type": "code",
      "source": [
        "# Label encode borough\n",
        "data_ct2['borough'] = LabelEncoder().fit_transform(data_ct2['borough'])\n",
        "\n",
        "# Convert object data to numeric\n",
        "df_cat = data_ct2.select_dtypes(include=['O']) \n",
        "df_cat = df_cat.apply(pd.to_numeric, errors = 'coerce')\n",
        "\n",
        "# Combine numeric with the newly numeric variables\n",
        "df_num = data_ct2.select_dtypes(include=[np.number]) #Subset data to columns of numeric type\n",
        "data_ct2 = pd.concat([df_num, df_cat], axis=1)\n",
        "\n",
        "# Remove any rows w/ missing values in rent variable\n",
        "data_ct2 = data_ct2[data_ct2['Median (dollars)'].notna()]"
      ],
      "metadata": {
        "id": "zvxWMbZn_2fS"
      },
      "execution_count": null,
      "outputs": []
    },
    {
      "cell_type": "code",
      "source": [
        "# Train test split\n",
        "y = data_ct2[\"evictions\"]\n",
        "X = data_ct2.loc[:, data_ct2.columns != 'evictions']\n",
        "\n",
        "Xs = sm.add_constant(X) #add constant to the line\n",
        "\n",
        "# Linear Regression\n",
        "model = sm.GLM(y, Xs).fit()\n",
        "model.summary()"
      ],
      "metadata": {
        "colab": {
          "base_uri": "https://localhost:8080/",
          "height": 1000
        },
        "id": "tbcUFkCv_kWe",
        "outputId": "c4ae86c0-5575-475d-d2bb-21b1b63f829d"
      },
      "execution_count": null,
      "outputs": [
        {
          "output_type": "stream",
          "name": "stderr",
          "text": [
            "/usr/local/lib/python3.8/dist-packages/statsmodels/tsa/tsatools.py:142: FutureWarning: In a future version of pandas all arguments of concat except for the argument 'objs' will be keyword-only\n",
            "  x = pd.concat(x[::order], 1)\n"
          ]
        },
        {
          "output_type": "execute_result",
          "data": {
            "text/plain": [
              "<class 'statsmodels.iolib.summary.Summary'>\n",
              "\"\"\"\n",
              "                 Generalized Linear Model Regression Results                  \n",
              "==============================================================================\n",
              "Dep. Variable:              evictions   No. Observations:                 1110\n",
              "Model:                            GLM   Df Residuals:                     1079\n",
              "Model Family:                Gaussian   Df Model:                           30\n",
              "Link Function:               identity   Scale:                          1159.4\n",
              "Method:                          IRLS   Log-Likelihood:                -5475.2\n",
              "Date:                Thu, 19 Jan 2023   Deviance:                   1.2510e+06\n",
              "Time:                        19:15:01   Pearson chi2:                 1.25e+06\n",
              "No. Iterations:                     3                                         \n",
              "Covariance Type:            nonrobust                                         \n",
              "===================================================================================================================================\n",
              "                                                                      coef    std err          z      P>|z|      [0.025      0.975]\n",
              "-----------------------------------------------------------------------------------------------------------------------------------\n",
              "const                                                              11.5187      9.134      1.261      0.207      -6.384      29.421\n",
              "Census Tract                                                       -0.0002   3.72e-05     -5.414      0.000      -0.000      -0.000\n",
              "borough                                                            -4.0159      1.081     -3.714      0.000      -6.135      -1.897\n",
              "ROOMS!!Total housing units!!Median rooms                           -0.2712      1.626     -0.167      0.868      -3.458       2.916\n",
              "Lacking complete plumbing facilities                               -0.1330      0.063     -2.118      0.034      -0.256      -0.010\n",
              "Lacking complete kitchen facilities                                 0.1836      0.046      3.976      0.000       0.093       0.274\n",
              "No telephone service available                                     -0.1333      0.037     -3.632      0.000      -0.205      -0.061\n",
              "Median (dollars)                                                    0.0062      0.003      1.843      0.065      -0.000       0.013\n",
              "Estimate!!Renter-occupied housing units!!Occupied housing units    -0.0090      0.025     -0.367      0.714      -0.057       0.039\n",
              "White                                                               0.0304      0.039      0.775      0.438      -0.046       0.107\n",
              "Black or African American                                           0.0689      0.038      1.789      0.074      -0.007       0.144\n",
              "American Indian and Alaska Native                                   0.0375      0.078      0.479      0.632      -0.116       0.191\n",
              "Asian                                                               0.0102      0.039      0.262      0.794      -0.066       0.087\n",
              "Native Hawaiian and Other Pacific Islander                         -0.2489      0.237     -1.049      0.294      -0.714       0.216\n",
              "Some other race                                                     0.0539      0.039      1.384      0.167      -0.022       0.130\n",
              "Two or more races                                                   0.0391      0.041      0.953      0.341      -0.041       0.119\n",
              "Hispanic or Latino origin                                           0.0277      0.017      1.650      0.099      -0.005       0.061\n",
              "White alone, not Hispanic or Latino                                -0.0052      0.025     -0.211      0.833      -0.054       0.043\n",
              "Under 35 years                                                     -0.0428      0.010     -4.296      0.000      -0.062      -0.023\n",
              "35 to 44 years                                                      0.0077      0.012      0.656      0.512      -0.015       0.031\n",
              "45 to 54 years                                                      0.0163      0.012      1.362      0.173      -0.007       0.040\n",
              "55 to 64 years                                                      0.0314      0.013      2.475      0.013       0.007       0.056\n",
              "65 to 74 years                                                     -0.0085      0.014     -0.591      0.555      -0.037       0.020\n",
              "75 to 84 years                                                     -0.0329      0.018     -1.796      0.073      -0.069       0.003\n",
              "85 years and over                                                   0.0198      0.024      0.813      0.416      -0.028       0.067\n",
              "Less than high school graduate                                      0.0106      0.011      1.008      0.313      -0.010       0.031\n",
              "High school graduate (includes equivalency)                        -0.0174      0.010     -1.776      0.076      -0.037       0.002\n",
              "Some college or associate's degree                                  0.0047      0.011      0.439      0.661      -0.016       0.026\n",
              "Bachelor's degree or higher                                        -0.0069      0.009     -0.783      0.434      -0.024       0.010\n",
              "Moved in 2019 or later                                              0.0429      0.013      3.199      0.001       0.017       0.069\n",
              "Moved in 2015 to 2018                                               0.0354      0.010      3.661      0.000       0.016       0.054\n",
              "Moved in 2010 to 2014                                              -0.0016      0.010     -0.153      0.878      -0.022       0.019\n",
              "Moved in 2000 to 2009                                              -0.0237      0.011     -2.136      0.033      -0.045      -0.002\n",
              "Moved in 1990 to 1999                                              -0.0356      0.013     -2.711      0.007      -0.061      -0.010\n",
              "Moved in 1989 or earlier                                           -0.0265      0.012     -2.201      0.028      -0.050      -0.003\n",
              "===================================================================================================================================\n",
              "\"\"\""
            ],
            "text/html": [
              "<table class=\"simpletable\">\n",
              "<caption>Generalized Linear Model Regression Results</caption>\n",
              "<tr>\n",
              "  <th>Dep. Variable:</th>       <td>evictions</td>    <th>  No. Observations:  </th>   <td>  1110</td>  \n",
              "</tr>\n",
              "<tr>\n",
              "  <th>Model:</th>                  <td>GLM</td>       <th>  Df Residuals:      </th>   <td>  1079</td>  \n",
              "</tr>\n",
              "<tr>\n",
              "  <th>Model Family:</th>        <td>Gaussian</td>     <th>  Df Model:          </th>   <td>    30</td>  \n",
              "</tr>\n",
              "<tr>\n",
              "  <th>Link Function:</th>       <td>identity</td>     <th>  Scale:             </th>  <td>  1159.4</td> \n",
              "</tr>\n",
              "<tr>\n",
              "  <th>Method:</th>                <td>IRLS</td>       <th>  Log-Likelihood:    </th>  <td> -5475.2</td> \n",
              "</tr>\n",
              "<tr>\n",
              "  <th>Date:</th>            <td>Thu, 19 Jan 2023</td> <th>  Deviance:          </th> <td>1.2510e+06</td>\n",
              "</tr>\n",
              "<tr>\n",
              "  <th>Time:</th>                <td>19:15:01</td>     <th>  Pearson chi2:      </th>  <td>1.25e+06</td> \n",
              "</tr>\n",
              "<tr>\n",
              "  <th>No. Iterations:</th>          <td>3</td>        <th>                     </th>      <td> </td>    \n",
              "</tr>\n",
              "<tr>\n",
              "  <th>Covariance Type:</th>     <td>nonrobust</td>    <th>                     </th>      <td> </td>    \n",
              "</tr>\n",
              "</table>\n",
              "<table class=\"simpletable\">\n",
              "<tr>\n",
              "                                 <td></td>                                    <th>coef</th>     <th>std err</th>      <th>z</th>      <th>P>|z|</th>  <th>[0.025</th>    <th>0.975]</th>  \n",
              "</tr>\n",
              "<tr>\n",
              "  <th>const</th>                                                           <td>   11.5187</td> <td>    9.134</td> <td>    1.261</td> <td> 0.207</td> <td>   -6.384</td> <td>   29.421</td>\n",
              "</tr>\n",
              "<tr>\n",
              "  <th>Census Tract</th>                                                    <td>   -0.0002</td> <td> 3.72e-05</td> <td>   -5.414</td> <td> 0.000</td> <td>   -0.000</td> <td>   -0.000</td>\n",
              "</tr>\n",
              "<tr>\n",
              "  <th>borough</th>                                                         <td>   -4.0159</td> <td>    1.081</td> <td>   -3.714</td> <td> 0.000</td> <td>   -6.135</td> <td>   -1.897</td>\n",
              "</tr>\n",
              "<tr>\n",
              "  <th>ROOMS!!Total housing units!!Median rooms</th>                        <td>   -0.2712</td> <td>    1.626</td> <td>   -0.167</td> <td> 0.868</td> <td>   -3.458</td> <td>    2.916</td>\n",
              "</tr>\n",
              "<tr>\n",
              "  <th>Lacking complete plumbing facilities</th>                            <td>   -0.1330</td> <td>    0.063</td> <td>   -2.118</td> <td> 0.034</td> <td>   -0.256</td> <td>   -0.010</td>\n",
              "</tr>\n",
              "<tr>\n",
              "  <th>Lacking complete kitchen facilities</th>                             <td>    0.1836</td> <td>    0.046</td> <td>    3.976</td> <td> 0.000</td> <td>    0.093</td> <td>    0.274</td>\n",
              "</tr>\n",
              "<tr>\n",
              "  <th>No telephone service available</th>                                  <td>   -0.1333</td> <td>    0.037</td> <td>   -3.632</td> <td> 0.000</td> <td>   -0.205</td> <td>   -0.061</td>\n",
              "</tr>\n",
              "<tr>\n",
              "  <th>Median (dollars)</th>                                                <td>    0.0062</td> <td>    0.003</td> <td>    1.843</td> <td> 0.065</td> <td>   -0.000</td> <td>    0.013</td>\n",
              "</tr>\n",
              "<tr>\n",
              "  <th>Estimate!!Renter-occupied housing units!!Occupied housing units</th> <td>   -0.0090</td> <td>    0.025</td> <td>   -0.367</td> <td> 0.714</td> <td>   -0.057</td> <td>    0.039</td>\n",
              "</tr>\n",
              "<tr>\n",
              "  <th>White</th>                                                           <td>    0.0304</td> <td>    0.039</td> <td>    0.775</td> <td> 0.438</td> <td>   -0.046</td> <td>    0.107</td>\n",
              "</tr>\n",
              "<tr>\n",
              "  <th>Black or African American</th>                                       <td>    0.0689</td> <td>    0.038</td> <td>    1.789</td> <td> 0.074</td> <td>   -0.007</td> <td>    0.144</td>\n",
              "</tr>\n",
              "<tr>\n",
              "  <th>American Indian and Alaska Native</th>                               <td>    0.0375</td> <td>    0.078</td> <td>    0.479</td> <td> 0.632</td> <td>   -0.116</td> <td>    0.191</td>\n",
              "</tr>\n",
              "<tr>\n",
              "  <th>Asian</th>                                                           <td>    0.0102</td> <td>    0.039</td> <td>    0.262</td> <td> 0.794</td> <td>   -0.066</td> <td>    0.087</td>\n",
              "</tr>\n",
              "<tr>\n",
              "  <th>Native Hawaiian and Other Pacific Islander</th>                      <td>   -0.2489</td> <td>    0.237</td> <td>   -1.049</td> <td> 0.294</td> <td>   -0.714</td> <td>    0.216</td>\n",
              "</tr>\n",
              "<tr>\n",
              "  <th>Some other race</th>                                                 <td>    0.0539</td> <td>    0.039</td> <td>    1.384</td> <td> 0.167</td> <td>   -0.022</td> <td>    0.130</td>\n",
              "</tr>\n",
              "<tr>\n",
              "  <th>Two or more races</th>                                               <td>    0.0391</td> <td>    0.041</td> <td>    0.953</td> <td> 0.341</td> <td>   -0.041</td> <td>    0.119</td>\n",
              "</tr>\n",
              "<tr>\n",
              "  <th>Hispanic or Latino origin</th>                                       <td>    0.0277</td> <td>    0.017</td> <td>    1.650</td> <td> 0.099</td> <td>   -0.005</td> <td>    0.061</td>\n",
              "</tr>\n",
              "<tr>\n",
              "  <th>White alone, not Hispanic or Latino</th>                             <td>   -0.0052</td> <td>    0.025</td> <td>   -0.211</td> <td> 0.833</td> <td>   -0.054</td> <td>    0.043</td>\n",
              "</tr>\n",
              "<tr>\n",
              "  <th>Under 35 years</th>                                                  <td>   -0.0428</td> <td>    0.010</td> <td>   -4.296</td> <td> 0.000</td> <td>   -0.062</td> <td>   -0.023</td>\n",
              "</tr>\n",
              "<tr>\n",
              "  <th>35 to 44 years</th>                                                  <td>    0.0077</td> <td>    0.012</td> <td>    0.656</td> <td> 0.512</td> <td>   -0.015</td> <td>    0.031</td>\n",
              "</tr>\n",
              "<tr>\n",
              "  <th>45 to 54 years</th>                                                  <td>    0.0163</td> <td>    0.012</td> <td>    1.362</td> <td> 0.173</td> <td>   -0.007</td> <td>    0.040</td>\n",
              "</tr>\n",
              "<tr>\n",
              "  <th>55 to 64 years</th>                                                  <td>    0.0314</td> <td>    0.013</td> <td>    2.475</td> <td> 0.013</td> <td>    0.007</td> <td>    0.056</td>\n",
              "</tr>\n",
              "<tr>\n",
              "  <th>65 to 74 years</th>                                                  <td>   -0.0085</td> <td>    0.014</td> <td>   -0.591</td> <td> 0.555</td> <td>   -0.037</td> <td>    0.020</td>\n",
              "</tr>\n",
              "<tr>\n",
              "  <th>75 to 84 years</th>                                                  <td>   -0.0329</td> <td>    0.018</td> <td>   -1.796</td> <td> 0.073</td> <td>   -0.069</td> <td>    0.003</td>\n",
              "</tr>\n",
              "<tr>\n",
              "  <th>85 years and over</th>                                               <td>    0.0198</td> <td>    0.024</td> <td>    0.813</td> <td> 0.416</td> <td>   -0.028</td> <td>    0.067</td>\n",
              "</tr>\n",
              "<tr>\n",
              "  <th>Less than high school graduate</th>                                  <td>    0.0106</td> <td>    0.011</td> <td>    1.008</td> <td> 0.313</td> <td>   -0.010</td> <td>    0.031</td>\n",
              "</tr>\n",
              "<tr>\n",
              "  <th>High school graduate (includes equivalency)</th>                     <td>   -0.0174</td> <td>    0.010</td> <td>   -1.776</td> <td> 0.076</td> <td>   -0.037</td> <td>    0.002</td>\n",
              "</tr>\n",
              "<tr>\n",
              "  <th>Some college or associate's degree</th>                              <td>    0.0047</td> <td>    0.011</td> <td>    0.439</td> <td> 0.661</td> <td>   -0.016</td> <td>    0.026</td>\n",
              "</tr>\n",
              "<tr>\n",
              "  <th>Bachelor's degree or higher</th>                                     <td>   -0.0069</td> <td>    0.009</td> <td>   -0.783</td> <td> 0.434</td> <td>   -0.024</td> <td>    0.010</td>\n",
              "</tr>\n",
              "<tr>\n",
              "  <th>Moved in 2019 or later</th>                                          <td>    0.0429</td> <td>    0.013</td> <td>    3.199</td> <td> 0.001</td> <td>    0.017</td> <td>    0.069</td>\n",
              "</tr>\n",
              "<tr>\n",
              "  <th>Moved in 2015 to 2018</th>                                           <td>    0.0354</td> <td>    0.010</td> <td>    3.661</td> <td> 0.000</td> <td>    0.016</td> <td>    0.054</td>\n",
              "</tr>\n",
              "<tr>\n",
              "  <th>Moved in 2010 to 2014</th>                                           <td>   -0.0016</td> <td>    0.010</td> <td>   -0.153</td> <td> 0.878</td> <td>   -0.022</td> <td>    0.019</td>\n",
              "</tr>\n",
              "<tr>\n",
              "  <th>Moved in 2000 to 2009</th>                                           <td>   -0.0237</td> <td>    0.011</td> <td>   -2.136</td> <td> 0.033</td> <td>   -0.045</td> <td>   -0.002</td>\n",
              "</tr>\n",
              "<tr>\n",
              "  <th>Moved in 1990 to 1999</th>                                           <td>   -0.0356</td> <td>    0.013</td> <td>   -2.711</td> <td> 0.007</td> <td>   -0.061</td> <td>   -0.010</td>\n",
              "</tr>\n",
              "<tr>\n",
              "  <th>Moved in 1989 or earlier</th>                                        <td>   -0.0265</td> <td>    0.012</td> <td>   -2.201</td> <td> 0.028</td> <td>   -0.050</td> <td>   -0.003</td>\n",
              "</tr>\n",
              "</table>"
            ]
          },
          "metadata": {},
          "execution_count": 27
        }
      ]
    },
    {
      "cell_type": "markdown",
      "source": [
        "Identifying clusters"
      ],
      "metadata": {
        "id": "LulI0bb0Kq9-"
      }
    },
    {
      "cell_type": "code",
      "source": [
        "import matplotlib.pyplot as plt\n",
        "from statsmodels.formula.api import ols\n",
        "\n",
        "#Replace space w/underscores\n",
        "data_ct2.columns = data_ct2.columns.str.replace(' ', '')\n",
        "\n",
        "# fit simple linear regression model\n",
        "lm = ols('evictions ~ Under35years',\n",
        "                   data=data_ct2).fit()\n",
        "  \n",
        "# print summary\n",
        "print(lm.summary())\n",
        "# adjust figure size\n",
        "fig = plt.figure(figsize=(14, 8))\n",
        "# show regression plots\n",
        "fig = sm.graphics.plot_regress_exog(lm,\n",
        "                                    'Under35years',\n",
        "                                    fig=fig)"
      ],
      "metadata": {
        "colab": {
          "base_uri": "https://localhost:8080/",
          "height": 1000
        },
        "id": "j9NmAIElGl1U",
        "outputId": "7d39dcdc-8150-4bfa-b661-3e32f9519986"
      },
      "execution_count": null,
      "outputs": [
        {
          "output_type": "stream",
          "name": "stdout",
          "text": [
            "                            OLS Regression Results                            \n",
            "==============================================================================\n",
            "Dep. Variable:              evictions   R-squared:                       0.123\n",
            "Model:                            OLS   Adj. R-squared:                  0.122\n",
            "Method:                 Least Squares   F-statistic:                     155.7\n",
            "Date:                Thu, 12 Jan 2023   Prob (F-statistic):           1.60e-33\n",
            "Time:                        21:51:26   Log-Likelihood:                -5884.8\n",
            "No. Observations:                1110   AIC:                         1.177e+04\n",
            "Df Residuals:                    1108   BIC:                         1.178e+04\n",
            "Df Model:                           1                                         \n",
            "Covariance Type:            nonrobust                                         \n",
            "================================================================================\n",
            "                   coef    std err          t      P>|t|      [0.025      0.975]\n",
            "--------------------------------------------------------------------------------\n",
            "Intercept       31.9610      2.013     15.879      0.000      28.012      35.910\n",
            "Under35years     0.0697      0.006     12.476      0.000       0.059       0.081\n",
            "==============================================================================\n",
            "Omnibus:                      361.318   Durbin-Watson:                   1.465\n",
            "Prob(Omnibus):                  0.000   Jarque-Bera (JB):             1087.241\n",
            "Skew:                           1.637   Prob(JB):                    8.10e-237\n",
            "Kurtosis:                       6.576   Cond. No.                         497.\n",
            "==============================================================================\n",
            "\n",
            "Notes:\n",
            "[1] Standard Errors assume that the covariance matrix of the errors is correctly specified.\n"
          ]
        },
        {
          "output_type": "display_data",
          "data": {
            "text/plain": [
              "<Figure size 1008x576 with 4 Axes>"
            ],
            "image/png": "[encoded data removed]"
          },
          "metadata": {
            "needs_background": "light"
          }
        }
      ]
    },
    {
      "cell_type": "code",
      "source": [
        "#export data\n",
        "data_ct2.to_csv(\"renters_data_ct.csv\")"
      ],
      "metadata": {
        "id": "h4FooC9fUSjQ"
      },
      "execution_count": null,
      "outputs": []
    }
  ]
}